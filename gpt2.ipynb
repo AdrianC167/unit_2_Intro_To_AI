{
 "cells": [
  {
   "cell_type": "code",
   "execution_count": 2,
   "metadata": {},
   "outputs": [],
   "source": [
    "import gpt_2_simple as gpt2\n",
    "\n"
   ]
  },
  {
   "cell_type": "code",
   "execution_count": 3,
   "metadata": {},
   "outputs": [
    {
     "name": "stderr",
     "output_type": "stream",
     "text": [
      "Fetching checkpoint: 1.05Mit [00:00, 1.49Git/s]                                                     \n",
      "Fetching encoder.json: 1.05Mit [00:02, 449kit/s]                                                    \n",
      "Fetching hparams.json: 1.05Mit [00:00, 4.52Git/s]                                                   \n",
      "Fetching model.ckpt.data-00000-of-00001: 498Mit [19:22, 428kit/s]                                   \n",
      "Fetching model.ckpt.index: 1.05Mit [00:00, 2.30Git/s]                                               \n",
      "Fetching model.ckpt.meta: 1.05Mit [00:00, 2.64Mit/s]                                                \n",
      "Fetching vocab.bpe: 1.05Mit [00:00, 2.45Mit/s]                                                      \n"
     ]
    }
   ],
   "source": [
    "#gpt2.download_gpt2(model_name='124M')"
   ]
  }
 ],
 "metadata": {
  "kernelspec": {
   "display_name": "Python 3",
   "language": "python",
   "name": "python3"
  },
  "language_info": {
   "codemirror_mode": {
    "name": "ipython",
    "version": 3
   },
   "file_extension": ".py",
   "mimetype": "text/x-python",
   "name": "python",
   "nbconvert_exporter": "python",
   "pygments_lexer": "ipython3",
   "version": "3.10.8 (main, Oct 13 2022, 09:48:40) [Clang 14.0.0 (clang-1400.0.29.102)]"
  },
  "orig_nbformat": 4,
  "vscode": {
   "interpreter": {
    "hash": "b0fa6594d8f4cbf19f97940f81e996739fb7646882a419484c72d19e05852a7e"
   }
  }
 },
 "nbformat": 4,
 "nbformat_minor": 2
}
