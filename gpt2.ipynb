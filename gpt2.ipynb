{
 "cells": [
  {
   "cell_type": "code",
   "execution_count": 2,
   "metadata": {},
   "outputs": [],
   "source": [
    "import gpt_2_simple as gpt2\n",
    "\n"
   ]
  },
  {
   "cell_type": "code",
   "execution_count": 3,
   "metadata": {},
   "outputs": [],
   "source": [
    "#gpt2.download_gpt2(model_name='124M')"
   ]
  },
  {
   "cell_type": "code",
   "execution_count": 4,
   "metadata": {},
   "outputs": [],
   "source": [
    "session = gpt2.start_tf_sess()"
   ]
  },
  {
   "cell_type": "code",
   "execution_count": 5,
   "metadata": {},
   "outputs": [
    {
     "name": "stderr",
     "output_type": "stream",
     "text": [
      "2023-12-19 09:21:59.049183: I tensorflow/compiler/mlir/mlir_graph_optimization_pass.cc:388] MLIR V1 optimization pass is not enabled\n"
     ]
    },
    {
     "name": "stdout",
     "output_type": "stream",
     "text": [
      "Loading checkpoint checkpoint/run1/model-120\n",
      "INFO:tensorflow:Restoring parameters from checkpoint/run1/model-120\n",
      "Loading dataset...\n"
     ]
    },
    {
     "name": "stderr",
     "output_type": "stream",
     "text": [
      "100%|██████████| 1/1 [00:00<00:00,  1.39it/s]\n"
     ]
    },
    {
     "name": "stdout",
     "output_type": "stream",
     "text": [
      "dataset has 338024 tokens\n",
      "Training...\n",
      "[121 | 19.05] loss=2.88 avg=2.88\n",
      "[122 | 40.21] loss=3.37 avg=3.13\n",
      "[123 | 59.92] loss=3.23 avg=3.16\n",
      "[124 | 80.62] loss=3.04 avg=3.13\n",
      "[125 | 100.45] loss=3.18 avg=3.14\n",
      "[126 | 120.42] loss=2.98 avg=3.11\n",
      "[127 | 141.27] loss=3.07 avg=3.11\n",
      "[128 | 160.81] loss=3.18 avg=3.12\n",
      "[129 | 183.85] loss=3.23 avg=3.13\n",
      "[130 | 203.58] loss=3.20 avg=3.14\n",
      "[131 | 223.59] loss=3.29 avg=3.15\n",
      "[132 | 244.24] loss=2.94 avg=3.13\n",
      "[133 | 264.59] loss=3.13 avg=3.13\n",
      "[134 | 285.63] loss=3.07 avg=3.13\n",
      "[135 | 305.65] loss=2.94 avg=3.11\n",
      "[136 | 325.41] loss=3.15 avg=3.12\n",
      "[137 | 345.94] loss=3.37 avg=3.13\n",
      "[138 | 366.25] loss=3.11 avg=3.13\n",
      "[139 | 387.20] loss=3.01 avg=3.12\n",
      "[140 | 408.39] loss=3.19 avg=3.13\n",
      "[141 | 429.13] loss=2.89 avg=3.12\n",
      "[142 | 449.92] loss=3.05 avg=3.11\n",
      "[143 | 472.37] loss=2.95 avg=3.10\n",
      "[144 | 491.86] loss=2.87 avg=3.09\n",
      "[145 | 512.44] loss=3.03 avg=3.09\n",
      "Saving checkpoint/run1/model-145\n"
     ]
    }
   ],
   "source": [
    "gpt2.finetune(session, \"shakespeare.txt\", model_name='124M', steps=25)"
   ]
  },
  {
   "cell_type": "code",
   "execution_count": 6,
   "metadata": {},
   "outputs": [
    {
     "name": "stdout",
     "output_type": "stream",
     "text": [
      "nuh uh, I'll have you know that.\n",
      "\n",
      "GRUMID:\n",
      "I'll have you know that.\n",
      "\n",
      "GRUMID:\n",
      "Then, Grumid, I'll tell you why you are mad:\n",
      "That you are not so sick to-day.\n",
      "\n",
      "GRUMID:\n",
      "It is no longer so.\n",
      "\n",
      "GRUMID:\n",
      "Why, you have not been so sick for a long time now?\n",
      "\n",
      "GRUMID:\n",
      "I have not.\n",
      "\n",
      "GRUMID:\n",
      "Yet you are so much sick to-day that you're married.\n",
      "\n",
      "GRUMID:\n",
      "Cluse, I did not come to hear you speak so much.\n",
      "\n",
      "GRUMID:\n",
      "I did not come to hear you speak so much.\n",
      "\n",
      "GRUMID:\n",
      "But have you not seen the wife of my husband?\n",
      "\n",
      "GRUMID:\n",
      "No.\n",
      "\n",
      "GRUMID:\n",
      "There is no man in this chamber.\n",
      "\n",
      "GRUMID:\n",
      "No, boy, there is no man in this chamber.\n",
      "\n",
      "GRUMID:\n",
      "But there is a man in this chamber.\n",
      "\n",
      "GRUMID:\n",
      "Boy, there is a man in this chamber.\n",
      "\n",
      "GRUMID:\n",
      "And boy, there is a woman in this chamber.\n",
      "\n",
      "GRUMID:\n",
      "She is of the king's household.\n",
      "\n",
      "GRUMID:\n",
      "So, boy, there is a woman in this chamber.\n",
      "\n",
      "GRUMID:\n",
      "So, boy, there is a woman in this chamber.\n",
      "\n",
      "GRUMID:\n",
      "So, boy, there is a woman in this chamber.\n",
      "\n",
      "GRUMID:\n",
      "So, boy, there is a woman in this chamber.\n",
      "\n",
      "GRUMID:\n",
      "So, boy, there is a woman in this chamber.\n",
      "\n",
      "GRUMID:\n",
      "So, boy, there is a woman in this chamber.\n",
      "\n",
      "GRUMID:\n",
      "So, boy, there is a woman in this chamber.\n",
      "\n",
      "GRUMID:\n",
      "So, boy, there is a woman in this chamber.\n",
      "\n",
      "GRUMID:\n",
      "So, boy, there is a woman in this chamber.\n",
      "\n",
      "GRUMID:\n",
      "So, boy, there is a woman in this chamber.\n",
      "\n",
      "GRUMID:\n",
      "So, boy, there is a woman in this chamber.\n",
      "\n",
      "GRUMID:\n",
      "So, boy, there is a woman in this chamber.\n",
      "\n",
      "GRUMID:\n",
      "So, boy, there is a woman in this chamber.\n",
      "\n",
      "GRUMID:\n",
      "So, boy, there is a woman in this chamber.\n",
      "\n",
      "GRUMID:\n",
      "So, boy, there is a woman in this chamber.\n",
      "\n",
      "GRUMID:\n",
      "So, boy, there is a woman in this chamber.\n",
      "\n",
      "GRUMID:\n",
      "So, boy, there is a woman in this chamber.\n",
      "\n",
      "GRUMID:\n",
      "So, boy, there is a man in this chamber.\n",
      "This is the hollow chamber of this chamber.\n",
      "\n",
      "GRUMID:\n",
      "So, boy, there is a man in this chamber.\n",
      "\n",
      "GRUMID:\n",
      "So, boy, there is a woman in this chamber.\n",
      "\n",
      "GRUMID:\n",
      "So, boy, there is a woman in this chamber.\n",
      "\n",
      "GRUMID:\n",
      "So, boy, there is a woman in this chamber.\n",
      "\n",
      "GRUMID:\n",
      "So, boy, there is a man in this chamber.\n",
      "\n",
      "GRUMID:\n",
      "So, boy, there is a woman in this chamber.\n",
      "\n",
      "GRUMID:\n",
      "So, boy, there is a man in this chamber.\n",
      "\n",
      "GRUMID:\n",
      "So, boy, there is a man in this chamber.\n",
      "\n",
      "GRUMID:\n",
      "So, boy, there is a woman in this chamber.\n",
      "\n",
      "GRUMID:\n",
      "So, boy, there is a woman in this chamber.\n",
      "\n",
      "GRUMID:\n",
      "So, boy, there is a woman in this chamber.\n",
      "\n",
      "GRUMID:\n",
      "So, boy, there is a man in this chamber.\n",
      "\n",
      "GRUMID:\n",
      "So, boy, there is a man in this chamber.\n",
      "\n",
      "GRUMID:\n",
      "And so, boy, there is a woman in this chamber.\n",
      "\n",
      "GRUMID:\n",
      "So, boy, there is a woman in this chamber.\n",
      "\n",
      "GRUMID:\n",
      "So, boy, there is a woman in this chamber.\n",
      "\n",
      "GRUMID:\n",
      "So, boy, there is a woman in this chamber.\n",
      "\n",
      "GRUMID:\n",
      "So, boy, there is a woman in this chamber.\n",
      "\n",
      "GRUMID:\n",
      "So, boy, there is a woman in this chamber.\n",
      "\n",
      "GRUMID:\n",
      "So, boy, there is a woman in this chamber.\n"
     ]
    }
   ],
   "source": [
    "gpt2.generate(session, prefix=\"nuh uh\")"
   ]
  }
 ],
 "metadata": {
  "kernelspec": {
   "display_name": "Python 3",
   "language": "python",
   "name": "python3"
  },
  "language_info": {
   "codemirror_mode": {
    "name": "ipython",
    "version": 3
   },
   "file_extension": ".py",
   "mimetype": "text/x-python",
   "name": "python",
   "nbconvert_exporter": "python",
   "pygments_lexer": "ipython3",
   "version": "3.10.8"
  },
  "orig_nbformat": 4,
  "vscode": {
   "interpreter": {
    "hash": "b0fa6594d8f4cbf19f97940f81e996739fb7646882a419484c72d19e05852a7e"
   }
  }
 },
 "nbformat": 4,
 "nbformat_minor": 2
}
